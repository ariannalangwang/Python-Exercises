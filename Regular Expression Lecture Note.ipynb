{
 "cells": [
  {
   "cell_type": "markdown",
   "metadata": {},
   "source": [
    "#### Regular Expression Lecture Note"
   ]
  },
  {
   "cell_type": "code",
   "execution_count": 1,
   "metadata": {
    "collapsed": true
   },
   "outputs": [],
   "source": [
    "import re"
   ]
  },
  {
   "cell_type": "code",
   "execution_count": 6,
   "metadata": {},
   "outputs": [
    {
     "name": "stdout",
     "output_type": "stream",
     "text": [
      "557-12-8176\n"
     ]
    }
   ],
   "source": [
    "# Lecture 02: Regular Expressions with the RE Module\n",
    "\n",
    "ssnRegex = re.compile(r'\\d\\d\\d-\\d\\d-\\d\\d\\d\\d')\n",
    "ssnMatch = ssnRegex.search(\"The two ssn's you're looking for \\\n",
    "                            are 557-12-8176 and 321-54-9876\")\n",
    "print(ssnMatch.group())"
   ]
  },
  {
   "cell_type": "code",
   "execution_count": 7,
   "metadata": {},
   "outputs": [
    {
     "name": "stdout",
     "output_type": "stream",
     "text": [
      "['557-12-8176', '321-54-9876']\n"
     ]
    }
   ],
   "source": [
    "# Lecture 03: Finding Multiple Occurrences of a Pattern Using findall()\n",
    "\n",
    "ssnRegex = re.compile(r'\\d\\d\\d-\\d\\d-\\d\\d\\d\\d')\n",
    "ssnMatch = ssnRegex.findall(\"The two ssn's you're looking for \\\n",
    "                            are 557-12-8176 and 321-54-9876\")\n",
    "print(ssnMatch)\n",
    "\n",
    "# Note:\n",
    "# When using .search(), use .group() to get the result. [If none, cannot use .group()]\n",
    "# When using .findall(), do not use .group(); just print out result directly"
   ]
  },
  {
   "cell_type": "code",
   "execution_count": 9,
   "metadata": {},
   "outputs": [
    {
     "name": "stdout",
     "output_type": "stream",
     "text": [
      "12345-6789\n"
     ]
    }
   ],
   "source": [
    "# Lecture 04: Grouping Regular Expressions Using ()\n",
    "\n",
    "# zip code format = 12345-6789\n",
    "# pattern = r'\\d\\d\\d\\d\\d-\\d\\d\\d\\d'\n",
    "\n",
    "zipCodeRegex = re.compile(r'\\d\\d\\d\\d\\d-\\d\\d\\d\\d')\n",
    "zipMatch = zipCodeRegex.search('My zip code is 12345-6789.')\n",
    "print(zipMatch.group())"
   ]
  },
  {
   "cell_type": "code",
   "execution_count": 10,
   "metadata": {},
   "outputs": [
    {
     "name": "stdout",
     "output_type": "stream",
     "text": [
      "12345-6789\n",
      "12345\n",
      "6789\n"
     ]
    }
   ],
   "source": [
    "zipCodeRegex = re.compile(r'(\\d\\d\\d\\d\\d)-(\\d\\d\\d\\d)')\n",
    "zipMatch = zipCodeRegex.search('My zip code is 12345-6789.')\n",
    "print(zipMatch.group())\n",
    "print(zipMatch.group(1))\n",
    "print(zipMatch.group(2))\n",
    "\n",
    "# Note:\n",
    "# When using .search() and parens in pattern, .group() will give you the whole pattern.\n",
    "# .group(1) will give you the pattern in the first parens, and\n",
    "# .group(2) will give you the pattern in the second parens, and so on..."
   ]
  },
  {
   "cell_type": "code",
   "execution_count": 13,
   "metadata": {},
   "outputs": [
    {
     "name": "stdout",
     "output_type": "stream",
     "text": [
      "12345-(6789)\n"
     ]
    }
   ],
   "source": [
    "# zip code format = 12345-(6789)\n",
    "# pattern = r'\\d\\d\\d\\d\\d-\\(\\d\\d\\d\\d\\)'\n",
    "\n",
    "zipCodeRegex = re.compile(r'\\d\\d\\d\\d\\d-\\(\\d\\d\\d\\d\\)')\n",
    "zipMatch = zipCodeRegex.search('My zip code is 12345-(6789).')\n",
    "print(zipMatch.group())"
   ]
  },
  {
   "cell_type": "code",
   "execution_count": 14,
   "metadata": {},
   "outputs": [
    {
     "name": "stdout",
     "output_type": "stream",
     "text": [
      "runner\n",
      "ner\n"
     ]
    }
   ],
   "source": [
    "# Lecture 05: The Pipe Character '|'\n",
    "\n",
    "runRegex = re.compile(r'run(ning|ner|s)')\n",
    "runMatch = runRegex.search('The marathon runner is quick.')\n",
    "print(runMatch.group())\n",
    "print(runMatch.group(1))"
   ]
  },
  {
   "cell_type": "code",
   "execution_count": 15,
   "metadata": {},
   "outputs": [
    {
     "name": "stdout",
     "output_type": "stream",
     "text": [
      "running\n",
      "ning\n"
     ]
    }
   ],
   "source": [
    "runRegex = re.compile(r'run(ning|ner|s)')\n",
    "runMatch = runRegex.search('The marathon running is quick.')\n",
    "print(runMatch.group())\n",
    "print(runMatch.group(1))"
   ]
  },
  {
   "cell_type": "code",
   "execution_count": 16,
   "metadata": {},
   "outputs": [
    {
     "name": "stdout",
     "output_type": "stream",
     "text": [
      "runs\n",
      "s\n"
     ]
    }
   ],
   "source": [
    "runRegex = re.compile(r'run(ning|ner|s)')\n",
    "runMatch = runRegex.search('The marathon runs is quick.')\n",
    "print(runMatch.group())\n",
    "print(runMatch.group(1))"
   ]
  },
  {
   "cell_type": "code",
   "execution_count": 17,
   "metadata": {},
   "outputs": [
    {
     "name": "stdout",
     "output_type": "stream",
     "text": [
      "None\n"
     ]
    }
   ],
   "source": [
    "# Lecture 06: When .search() is Used and the Regular Expression is Not Found\n",
    "\n",
    "runRegex = re.compile(r'run(ning|ner|s)')\n",
    "runMatch = runRegex.search('The rune was made of stone.')\n",
    "print(runMatch)\n",
    "\n",
    "# Note: cannot use runMatch.group() in this case. Will get error message."
   ]
  },
  {
   "cell_type": "code",
   "execution_count": 18,
   "metadata": {},
   "outputs": [
    {
     "name": "stdout",
     "output_type": "stream",
     "text": [
      "salesman\n"
     ]
    }
   ],
   "source": [
    "# Lecture 07: Matching 0 or 1 Group Using \"?\"\n",
    "\n",
    "salesRegex = re.compile(r'sales(wo)?man')  # wo appears 0 or 1 time\n",
    "salesMatch = salesRegex.search('I was a salesman!')\n",
    "print(salesMatch.group())"
   ]
  },
  {
   "cell_type": "code",
   "execution_count": 19,
   "metadata": {},
   "outputs": [
    {
     "name": "stdout",
     "output_type": "stream",
     "text": [
      "saleswoman\n"
     ]
    }
   ],
   "source": [
    "salesRegex = re.compile(r'sales(wo)?man')  # wo appears 0 or 1 time\n",
    "salesMatch = salesRegex.search('I was a saleswoman!')\n",
    "print(salesMatch.group())"
   ]
  },
  {
   "cell_type": "code",
   "execution_count": 21,
   "metadata": {},
   "outputs": [
    {
     "name": "stdout",
     "output_type": "stream",
     "text": [
      "12/12/2016\n"
     ]
    }
   ],
   "source": [
    "# MM/DD/YYYY\n",
    "# example date: 12/13/2005\n",
    "\n",
    "dateRegex = re.compile(r'\\d\\d/\\d\\d/\\d\\d\\d\\d')\n",
    "dateMatch = dateRegex.search('The date is 12/12/2016')\n",
    "print(dateMatch.group())"
   ]
  },
  {
   "cell_type": "code",
   "execution_count": 24,
   "metadata": {},
   "outputs": [
    {
     "name": "stdout",
     "output_type": "stream",
     "text": [
      "2/5/2012\n",
      "12/9/1995\n",
      "3/24/2001\n"
     ]
    }
   ],
   "source": [
    "# There are three other possible cases:\n",
    "# 2/5/2012\n",
    "# 12/9/1995\n",
    "# 3/24/2001\n",
    "\n",
    "dateRegex = re.compile(r'\\d(\\d)?/\\d(\\d)?/\\d\\d\\d\\d')\n",
    "dateMatch = dateRegex.search('The date is 2/5/2012')\n",
    "print(dateMatch.group())\n",
    "\n",
    "dateMatch = dateRegex.search('The date is 12/9/1995')\n",
    "print(dateMatch.group())\n",
    "\n",
    "dateMatch = dateRegex.search('The date is 3/24/2001')\n",
    "print(dateMatch.group())"
   ]
  },
  {
   "cell_type": "code",
   "execution_count": 25,
   "metadata": {},
   "outputs": [
    {
     "name": "stdout",
     "output_type": "stream",
     "text": [
      "snake\n",
      "snakes\n",
      "snakessssssss\n"
     ]
    }
   ],
   "source": [
    "# Lecture 08: Matching 0 or More Groups Using \"*\"\n",
    "\n",
    "snakeRegex = re.compile(r'snake(s)*')  # s appears 0 or more times\n",
    "snakeMatch = snakeRegex.search('I saw a green snake.')\n",
    "print(snakeMatch.group())\n",
    "\n",
    "snakeMatch = snakeRegex.search('I saw green snakes.')\n",
    "print(snakeMatch.group())\n",
    "\n",
    "snakeMatch = snakeRegex.search('I saw green snakessssssss.')\n",
    "print(snakeMatch.group())"
   ]
  },
  {
   "cell_type": "code",
   "execution_count": 27,
   "metadata": {},
   "outputs": [
    {
     "name": "stdout",
     "output_type": "stream",
     "text": [
      "None\n",
      "snakes\n",
      "snakessssssss\n"
     ]
    }
   ],
   "source": [
    "# Lecture 09: Matching 1 or More Groups Using \"+\"\n",
    "\n",
    "snakeRegex = re.compile(r'snake(s)+')  # s appears 1 or more times\n",
    "snakeMatch = snakeRegex.search('I saw a green snake.')\n",
    "print(snakeMatch)\n",
    "\n",
    "snakeMatch = snakeRegex.search('I saw green snakes.')\n",
    "print(snakeMatch.group())\n",
    "\n",
    "snakeMatch = snakeRegex.search('I saw green snakessssssss.')\n",
    "print(snakeMatch.group())"
   ]
  },
  {
   "cell_type": "code",
   "execution_count": 29,
   "metadata": {},
   "outputs": [
    {
     "name": "stdout",
     "output_type": "stream",
     "text": [
      "34 + 43 * 9 = ?\n"
     ]
    },
    {
     "data": {
      "text/plain": [
       "'34 + 43 * 9 = ?'"
      ]
     },
     "execution_count": 29,
     "metadata": {},
     "output_type": "execute_result"
    }
   ],
   "source": [
    "# Lecture 10: Escaping “?”, “*”, and “+”\n",
    "\n",
    "mathRegex = re.compile(r'(\\d)+ \\+ (\\d)+ \\* (\\d)+ = \\?')\n",
    "mathMatch = mathRegex.search('34 + 43 * 9 = ?')\n",
    "print(mathMatch.group())"
   ]
  },
  {
   "cell_type": "code",
   "execution_count": 31,
   "metadata": {},
   "outputs": [
    {
     "name": "stdout",
     "output_type": "stream",
     "text": [
      "lalalala\n"
     ]
    }
   ],
   "source": [
    "# Lecture 11: Pattern Matching Using {number of reps}\n",
    "\n",
    "laRegex = re.compile(r'(la){4}')\n",
    "laMatch = laRegex.search(\"She said \\\"lalalala\\\" I can't hear you\")\n",
    "print(laMatch.group())"
   ]
  },
  {
   "cell_type": "code",
   "execution_count": 42,
   "metadata": {},
   "outputs": [
    {
     "name": "stdout",
     "output_type": "stream",
     "text": [
      "1/12/1999, 10/19/1987, 7/8/1985, 11/9/1980\n"
     ]
    }
   ],
   "source": [
    "dateRegex = re.compile(r'((\\d)?\\d/(\\d)?\\d/\\d\\d\\d\\d(, )?){4}')\n",
    "dateMatch = dateRegex.search('The dates are 1/12/1999, 10/19/1987, 7/8/1985, 11/9/1980.')\n",
    "print(dateMatch.group())"
   ]
  },
  {
   "cell_type": "code",
   "execution_count": 43,
   "metadata": {},
   "outputs": [
    {
     "name": "stdout",
     "output_type": "stream",
     "text": [
      "['1/12/1999', '10/19/1987', '7/8/1985', '11/9/1980']\n"
     ]
    }
   ],
   "source": [
    "# Use findall() for this problem:\n",
    "dateRegex = re.compile(r'\\d?\\d/\\d?\\d/\\d\\d\\d\\d')\n",
    "dateMatch = dateRegex.findall('The dates are 1/12/1999, 10/19/1987, 7/8/1985, 11/9/1980.')\n",
    "print(dateMatch)\n",
    "\n",
    "# Note:\n",
    "# Be careful when using parens in pattern when using findall(). \n",
    "# Parens give groups which show up in results as tuples."
   ]
  },
  {
   "cell_type": "code",
   "execution_count": 44,
   "metadata": {},
   "outputs": [
    {
     "name": "stdout",
     "output_type": "stream",
     "text": [
      "blahblah\n",
      "blahblahblah\n",
      "blahblahblahblah\n"
     ]
    }
   ],
   "source": [
    "# Lecture 12: Pattern Matching Using {min,max} \n",
    "\n",
    "blahRegex = re.compile(r'(blah){2,4}')\n",
    "blahMatch = blahRegex.search('blahblah')\n",
    "print(blahMatch.group())\n",
    "\n",
    "blahMatch = blahRegex.search('blahblahblah')\n",
    "print(blahMatch.group())\n",
    "\n",
    "blahMatch = blahRegex.search('blahblahblahblah')\n",
    "print(blahMatch.group())"
   ]
  },
  {
   "cell_type": "code",
   "execution_count": 45,
   "metadata": {},
   "outputs": [
    {
     "name": "stdout",
     "output_type": "stream",
     "text": [
      "\n",
      "blah\n",
      "blahblah\n",
      "blahblahblah\n",
      "blahblahblahblah\n",
      "blahblahblahblahblah\n",
      "blahblahblahblahblah\n"
     ]
    }
   ],
   "source": [
    "blahRegex = re.compile(r'(blah){,5}')  # blah appears 0 to 5 times\n",
    "\n",
    "blahMatch = blahRegex.search('Nothing')\n",
    "print(blahMatch.group())\n",
    "\n",
    "blahMatch = blahRegex.search('blah')\n",
    "print(blahMatch.group())\n",
    "\n",
    "blahMatch = blahRegex.search('blahblah')\n",
    "print(blahMatch.group())\n",
    "\n",
    "blahMatch = blahRegex.search('blahblahblah')\n",
    "print(blahMatch.group())\n",
    "\n",
    "blahMatch = blahRegex.search('blahblahblahblah')\n",
    "print(blahMatch.group())\n",
    "\n",
    "blahMatch = blahRegex.search('blahblahblahblahblah')\n",
    "print(blahMatch.group())\n",
    "\n",
    "blahMatch = blahRegex.search('blahblahblahblahblahblahblahblahblahblah')\n",
    "print(blahMatch.group())"
   ]
  },
  {
   "cell_type": "code",
   "execution_count": 47,
   "metadata": {},
   "outputs": [
    {
     "name": "stdout",
     "output_type": "stream",
     "text": [
      "None\n",
      "None\n",
      "blahblah\n",
      "blahblahblah\n",
      "blahblahblahblah\n",
      "blahblahblahblahblah\n",
      "blahblahblahblahblahblahblahblahblahblah\n"
     ]
    }
   ],
   "source": [
    "blahRegex = re.compile(r'(blah){2,}')  # blah appears 2 or more times\n",
    "\n",
    "blahMatch = blahRegex.search('Nothing')\n",
    "print(blahMatch)\n",
    "\n",
    "blahMatch = blahRegex.search('blah')\n",
    "print(blahMatch)\n",
    "\n",
    "blahMatch = blahRegex.search('blahblah')\n",
    "print(blahMatch.group())\n",
    "\n",
    "blahMatch = blahRegex.search('blahblahblah')\n",
    "print(blahMatch.group())\n",
    "\n",
    "blahMatch = blahRegex.search('blahblahblahblah')\n",
    "print(blahMatch.group())\n",
    "\n",
    "blahMatch = blahRegex.search('blahblahblahblahblah')\n",
    "print(blahMatch.group())\n",
    "\n",
    "blahMatch = blahRegex.search('blahblahblahblahblahblahblahblahblahblah')\n",
    "print(blahMatch.group())"
   ]
  },
  {
   "cell_type": "code",
   "execution_count": 50,
   "metadata": {},
   "outputs": [
    {
     "name": "stdout",
     "output_type": "stream",
     "text": [
      "Eye\n",
      "E\n"
     ]
    }
   ],
   "source": [
    "# Lecture 13: Greedy and Non-Greedy Matching\n",
    "\n",
    "wordRegex = re.compile(r'(\\w){1,3}')\n",
    "wordMatch = wordRegex.search('Eyes')\n",
    "print(wordMatch.group())\n",
    "\n",
    "wordRegex = re.compile(r'(\\w){1,3}?')  # put '?' in the end for non-greedy match\n",
    "wordMatch = wordRegex.search('Eyes')\n",
    "print(wordMatch.group())"
   ]
  },
  {
   "cell_type": "code",
   "execution_count": 54,
   "metadata": {},
   "outputs": [
    {
     "name": "stdout",
     "output_type": "stream",
     "text": [
      "08527\n",
      "['08527', '02453', '33428']\n"
     ]
    }
   ],
   "source": [
    "# Lecture 14: findall() with 0 or 1 groups\n",
    "\n",
    "zipRegex = re.compile(r'\\d\\d\\d\\d\\d')\n",
    "addresses = \"\"\" \n",
    "360 Clark Rd.\n",
    "Jackson, NJ 08527\n",
    "\n",
    "563 Alderwood St.\n",
    "Waltham, MA 02453\n",
    "\n",
    "70 High Ave.\n",
    "Boca Raton, FL 33428\n",
    "\"\"\"\n",
    "print(zipRegex.search(addresses).group()) # .search() finds only the first pattern in the string \n",
    "print(zipRegex.findall(addresses))  # .findall() finds all patterns in the string "
   ]
  },
  {
   "cell_type": "code",
   "execution_count": 55,
   "metadata": {},
   "outputs": [
    {
     "name": "stdout",
     "output_type": "stream",
     "text": [
      "['852', '245', '342']\n"
     ]
    }
   ],
   "source": [
    "# Important Note:\n",
    "# If no parens with .findall(), then output the whole pattern.\n",
    "# If one set of parens with .findall(), then output only what's inside the parens.\n",
    "\n",
    "zipRegex = re.compile(r'\\d(\\d\\d\\d)\\d')\n",
    "addresses = \"\"\" \n",
    "360 Clark Rd.\n",
    "Jackson, NJ 08527\n",
    "\n",
    "563 Alderwood St.\n",
    "Waltham, MA 02453\n",
    "\n",
    "70 High Ave.\n",
    "Boca Raton, FL 33428\n",
    "\"\"\"\n",
    "print(zipRegex.findall(addresses))"
   ]
  },
  {
   "cell_type": "code",
   "execution_count": 58,
   "metadata": {},
   "outputs": [
    {
     "name": "stdout",
     "output_type": "stream",
     "text": [
      "[('08527-9807', '08527'), ('02453-5565', '02453'), ('33428-1234', '33428')]\n"
     ]
    }
   ],
   "source": [
    "# Lecture 15: findall() with 2 or more groups\n",
    "\n",
    "zipRegex = re.compile(r'((\\d\\d\\d\\d\\d)-\\d\\d\\d\\d)')\n",
    "addresses = \"\"\" \n",
    "360 Clark Rd.\n",
    "Jackson, NJ 08527-9807\n",
    "\n",
    "563 Alderwood St.\n",
    "Waltham, MA 02453-5565\n",
    "\n",
    "70 High Ave.\n",
    "Boca Raton, FL 33428-1234\n",
    "\"\"\"\n",
    "print(zipRegex.findall(addresses))\n",
    "\n",
    "# Output tuples. Each tuple consists of all the groups."
   ]
  },
  {
   "cell_type": "code",
   "execution_count": 59,
   "metadata": {},
   "outputs": [
    {
     "name": "stdout",
     "output_type": "stream",
     "text": [
      "['T', 'i', 'r', 'r', 'i', 't', 't', 'r']\n"
     ]
    }
   ],
   "source": [
    "# Lecture 17: Making Your Own Character Classes Using []\n",
    "\n",
    "# Some of regex character classes are: \\d, \\D, \\w, \\W, \\s, \\S\n",
    "# Note that [] represents one SINGLE char, no matter how many chars are inside the [].\n",
    "\n",
    "letterRegex = re.compile(r'[tirT]') # any of the letters inside []\n",
    "letterMatch = letterRegex.findall('The squirrel climbed up the tree.')\n",
    "print(letterMatch)"
   ]
  },
  {
   "cell_type": "code",
   "execution_count": 60,
   "metadata": {},
   "outputs": [
    {
     "name": "stdout",
     "output_type": "stream",
     "text": [
      "['sq', 'ir', 're', 'tr', 'ee']\n"
     ]
    }
   ],
   "source": [
    "letterRegex = re.compile(r'[sqtire]{2}') # two of any of the letters inside []\n",
    "letterMatch = letterRegex.findall('The squirrel climbed up the tree.')\n",
    "print(letterMatch)"
   ]
  },
  {
   "cell_type": "code",
   "execution_count": 61,
   "metadata": {},
   "outputs": [
    {
     "name": "stdout",
     "output_type": "stream",
     "text": [
      "['sq', 'irre', 'tree']\n"
     ]
    }
   ],
   "source": [
    "letterRegex = re.compile(r'[sqtire]{2,}') # two or more of any of the letters inside []\n",
    "letterMatch = letterRegex.findall('The squirrel climbed up the tree.')\n",
    "print(letterMatch)"
   ]
  },
  {
   "cell_type": "code",
   "execution_count": 62,
   "metadata": {},
   "outputs": [
    {
     "name": "stdout",
     "output_type": "stream",
     "text": [
      "['sq', 'irr', 'tre']\n"
     ]
    }
   ],
   "source": [
    "letterRegex = re.compile(r'[sqtire]{2,3}') # 2-3 letters together of any of the letters inside []\n",
    "letterMatch = letterRegex.findall('The squirrel climbed up the tree.')\n",
    "print(letterMatch)"
   ]
  },
  {
   "cell_type": "code",
   "execution_count": 64,
   "metadata": {},
   "outputs": [
    {
     "name": "stdout",
     "output_type": "stream",
     "text": [
      "['P', 'P', 'P', 'c', 'd', 'A', 'P', 'c', 'O', 'P', 'c', 'd', 'P']\n"
     ]
    }
   ],
   "source": [
    "letterRegex = re.compile(r'[a-dA-P]') # 2-3 letters together of any of the letters inside []\n",
    "letterMatch = letterRegex.findall('Peter Piper Picked A Peck Of Pickled Peppers.')\n",
    "print(letterMatch)"
   ]
  },
  {
   "cell_type": "code",
   "execution_count": 66,
   "metadata": {},
   "outputs": [
    {
     "name": "stdout",
     "output_type": "stream",
     "text": [
      "['h', 'e', ' ', 's', 'q', 'u', 'e', 'l', '.']\n"
     ]
    }
   ],
   "source": [
    "# Lecture 18: Negative Character Classes Using ^\n",
    "\n",
    "letterRegex = re.compile(r'[^tirT]') # any of the letters inside []\n",
    "letterMatch = letterRegex.findall('The squirrel.')\n",
    "print(letterMatch)"
   ]
  },
  {
   "cell_type": "code",
   "execution_count": 74,
   "metadata": {},
   "outputs": [
    {
     "name": "stdout",
     "output_type": "stream",
     "text": [
      "<_sre.SRE_Match object; span=(0, 4), match='rude'>\n",
      "None\n"
     ]
    }
   ],
   "source": [
    "# Lecture 19: Using ^ to match a regular expression at the beginning of a string\n",
    "\n",
    "DrWhoRegex = re.compile(r'^rude')  # 'rude' needs to appear at the beginning of the string to be searched\n",
    "print(DrWhoRegex.search('rude and not ginger'))\n",
    "print(DrWhoRegex.search('That was rude'))"
   ]
  },
  {
   "cell_type": "code",
   "execution_count": 75,
   "metadata": {},
   "outputs": [
    {
     "name": "stdout",
     "output_type": "stream",
     "text": [
      "rude\n"
     ]
    }
   ],
   "source": [
    "print(DrWhoRegex.search('rude and not ginger').group())\n",
    "\n",
    "# Note: adding .group() to the end of the print statement is preferred when a match is found because\n",
    "#       for this display:  <_sre.SRE_Match object; span=(0, 4), match='rude'>, match = ' ' can only\n",
    "#       display up to 50 chars. However, .group() is not subject to this limit."
   ]
  },
  {
   "cell_type": "code",
   "execution_count": 76,
   "metadata": {},
   "outputs": [
    {
     "name": "stdout",
     "output_type": "stream",
     "text": [
      "<_sre.SRE_Match object; span=(9, 13), match='rude'>\n"
     ]
    }
   ],
   "source": [
    "# Lecture 20: Using $ to match a regular expression at the end of a string\n",
    "\n",
    "endRegex = re.compile(r'rude$')\n",
    "print(endRegex.search('That was rude'))"
   ]
  },
  {
   "cell_type": "code",
   "execution_count": 80,
   "metadata": {},
   "outputs": [
    {
     "name": "stdout",
     "output_type": "stream",
     "text": [
      "<_sre.SRE_Match object; span=(0, 8), match='Pakistan'>\n",
      "None\n"
     ]
    }
   ],
   "source": [
    "# Lecture 21: Using ^ at the beginning and $ at the end of a regex pattern simultaneously\n",
    "\n",
    "wordRegex = re.compile(r'^\\w+$')\n",
    "print(wordRegex.search('Pakistan'))\n",
    "print(wordRegex.search('South Africa'))"
   ]
  },
  {
   "cell_type": "code",
   "execution_count": 84,
   "metadata": {},
   "outputs": [
    {
     "data": {
      "text/plain": [
       "['might', 'right', 'light', 'light']"
      ]
     },
     "execution_count": 84,
     "metadata": {},
     "output_type": "execute_result"
    }
   ],
   "source": [
    "# Lecture 22: Using the “.” Character By Itself\n",
    "\n",
    "ightRegex = re.compile(r'.ight')  # '.' matches any single character except newline '\\n'\n",
    "ightRegex.findall(\"I might turn right at the light so that I don't miss my flight.\")"
   ]
  },
  {
   "cell_type": "code",
   "execution_count": 86,
   "metadata": {},
   "outputs": [
    {
     "data": {
      "text/plain": [
       "[' might', ' right', ' light', 'flight']"
      ]
     },
     "execution_count": 86,
     "metadata": {},
     "output_type": "execute_result"
    }
   ],
   "source": [
    "# Lecture 23: Using the “.” Character With {min,max}\n",
    "\n",
    "ightRegex = re.compile(r'.{2}ight')   \n",
    "ightRegex.findall(\"I might turn right at the light so that I don't miss my flight.\")"
   ]
  },
  {
   "cell_type": "code",
   "execution_count": 87,
   "metadata": {},
   "outputs": [
    {
     "data": {
      "text/plain": [
       "['I might', 'rn right', 'he light', 'y flight']"
      ]
     },
     "execution_count": 87,
     "metadata": {},
     "output_type": "execute_result"
    }
   ],
   "source": [
    "ightRegex = re.compile(r'.{2,4}ight')   \n",
    "ightRegex.findall(\"I might turn right at the light so that I don't miss my flight.\")"
   ]
  },
  {
   "cell_type": "code",
   "execution_count": 92,
   "metadata": {},
   "outputs": [
    {
     "name": "stdout",
     "output_type": "stream",
     "text": [
      "The capital city of Hungry is Budapest\n",
      "The capital city of Spain is Madrid\n",
      "The capital city of United Kingdom is London\n"
     ]
    }
   ],
   "source": [
    "# Lecture 24:  Using “.*” to find patterns in strings containing words of unknown length\n",
    "\n",
    "countryCapRegex = re.compile(r'The capital city of .* is .*')\n",
    "print(countryCapRegex.search(\"The capital city of Hungry is Budapest\").group())\n",
    "print(countryCapRegex.search(\"The capital city of Spain is Madrid\").group())\n",
    "print(countryCapRegex.search(\"The capital city of United Kingdom is London\").group())"
   ]
  },
  {
   "cell_type": "code",
   "execution_count": 100,
   "metadata": {},
   "outputs": [
    {
     "name": "stdout",
     "output_type": "stream",
     "text": [
      "['012345012345']\n",
      "['012345', '012345']\n"
     ]
    }
   ],
   "source": [
    "# Lecture 25: Greedy and Non-Greedy Matching with “.*” and “.*?”\n",
    "\n",
    "# greedy match:\n",
    "numRegex = re.compile(r'0.*5')  # by default, regex is 'greedy'.\n",
    "print(numRegex.findall('012345012345'))\n",
    "\n",
    "# non-greedy match:\n",
    "numRegex = re.compile(r'0.*?5')  # to make regex 'non-greedy', put '?' at the end, such as .*? or .+?\n",
    "print(numRegex.findall('012345012345'))"
   ]
  },
  {
   "cell_type": "code",
   "execution_count": 99,
   "metadata": {},
   "outputs": [
    {
     "name": "stdout",
     "output_type": "stream",
     "text": [
      "['01234501234']\n",
      "['01234', '01234']\n"
     ]
    }
   ],
   "source": [
    "# Note: with findall() and one set of parens, the output is only what is inside that one set of parens.\n",
    "\n",
    "numRegex = re.compile(r'(0.*)5')   \n",
    "print(numRegex.findall('012345012345'))\n",
    " \n",
    "numRegex = re.compile(r'(0.*?)5')   \n",
    "print(numRegex.findall('012345012345'))"
   ]
  },
  {
   "cell_type": "code",
   "execution_count": 101,
   "metadata": {},
   "outputs": [
    {
     "name": "stdout",
     "output_type": "stream",
     "text": [
      "The Grinch hated Christmas\n",
      "The whole Christmas season!\n",
      "Now, please don't ask why.\n"
     ]
    }
   ],
   "source": [
    "# Lecture 26: Matching “\\n” with DOTALL\n",
    "\n",
    "# the string:\n",
    "DrSeuss = \"The Grinch hated Christmas\\nThe whole Christmas season!\\nNow, please don't ask why.\"\n",
    "print(DrSeuss)"
   ]
  },
  {
   "cell_type": "code",
   "execution_count": 104,
   "metadata": {},
   "outputs": [
    {
     "data": {
      "text/plain": [
       "'The Grinch hated Christmas'"
      ]
     },
     "execution_count": 104,
     "metadata": {},
     "output_type": "execute_result"
    }
   ],
   "source": [
    "nonDotallRegex = re.compile(r'.*')\n",
    "nonDotallRegex.search(DrSeuss).group()"
   ]
  },
  {
   "cell_type": "code",
   "execution_count": 105,
   "metadata": {},
   "outputs": [
    {
     "data": {
      "text/plain": [
       "\"The Grinch hated Christmas\\nThe whole Christmas season!\\nNow, please don't ask why.\""
      ]
     },
     "execution_count": 105,
     "metadata": {},
     "output_type": "execute_result"
    }
   ],
   "source": [
    "DotallRegex = re.compile(r'.*', re.DOTALL)\n",
    "DotallRegex.search(DrSeuss).group()"
   ]
  },
  {
   "cell_type": "code",
   "execution_count": 106,
   "metadata": {},
   "outputs": [
    {
     "name": "stdout",
     "output_type": "stream",
     "text": [
      "The Grinch hated Christmas\n",
      "The whole Christmas season!\n",
      "Now, please don't ask why.\n"
     ]
    }
   ],
   "source": [
    "# add print():\n",
    "DotallRegex = re.compile(r'.*', re.DOTALL)\n",
    "print(DotallRegex.search(DrSeuss).group())"
   ]
  },
  {
   "cell_type": "code",
   "execution_count": 107,
   "metadata": {},
   "outputs": [
    {
     "data": {
      "text/plain": [
       "['P', 'P', 'p', 'P', 'P', 'P', 'P', 'p', 'p']"
      ]
     },
     "execution_count": 107,
     "metadata": {},
     "output_type": "execute_result"
    }
   ],
   "source": [
    "# Lecture 27: Using re.IGNORECASE/re.I to do a case insensitive regular expression match\n",
    "\n",
    "twisterRegex = re.compile(r'[p]', re.IGNORECASE)\n",
    "twisterRegex.findall(\"Peter Piper Picked a Peck of Pickled Peppers\")  # returns both P and p"
   ]
  },
  {
   "cell_type": "code",
   "execution_count": 109,
   "metadata": {},
   "outputs": [
    {
     "data": {
      "text/plain": [
       "<_sre.SRE_Match object; span=(16, 26), match='11/25/2014'>"
      ]
     },
     "execution_count": 109,
     "metadata": {},
     "output_type": "execute_result"
    }
   ],
   "source": [
    "# Lecture 28: Finding and Replacing a Regular Expression using the sub() function\n",
    "\n",
    "dateRegex = re.compile(r'(\\d)?\\d/(\\d)?\\d/\\d\\d\\d\\d')\n",
    "dateRegex.search(\"Today's date is 11/25/2014\")"
   ]
  },
  {
   "cell_type": "code",
   "execution_count": 110,
   "metadata": {},
   "outputs": [
    {
     "data": {
      "text/plain": [
       "\"Today's date is 11/25/2017\""
      ]
     },
     "execution_count": 110,
     "metadata": {},
     "output_type": "execute_result"
    }
   ],
   "source": [
    "# re.sub(pat, replacement, str)\n",
    "\n",
    "dateRegex.sub(\"11/25/2017\", \"Today's date is 11/25/2014\") "
   ]
  },
  {
   "cell_type": "code",
   "execution_count": 67,
   "metadata": {},
   "outputs": [
    {
     "name": "stdout",
     "output_type": "stream",
     "text": [
      "<_sre.SRE_Match object; span=(12, 35), match='password: password12345'>\n"
     ]
    }
   ],
   "source": [
    "# Lecture 29: Partial Find and Replace Using Sub()\n",
    "\n",
    "passwordRegex = re.compile(r'password: \\w+')\n",
    "print(passwordRegex.search('This is the password: password12345'))"
   ]
  },
  {
   "cell_type": "code",
   "execution_count": 70,
   "metadata": {},
   "outputs": [
    {
     "name": "stdout",
     "output_type": "stream",
     "text": [
      "This is the password: p****\n"
     ]
    }
   ],
   "source": [
    "passwordRegex = re.compile(r'password: (\\w)\\w+')  # (\\w) is group(1)\n",
    "subRegex = passwordRegex.sub(r'password: \\1****', 'This is the password: password12345')\n",
    "print(subRegex)\n",
    "\n",
    "# Note: the replacement pattern is just how it is writen. Meta-characters here do not mean anything."
   ]
  },
  {
   "cell_type": "code",
   "execution_count": null,
   "metadata": {
    "collapsed": true
   },
   "outputs": [],
   "source": [
    "# Lecture 30: Using Verbose Mode\n",
    "\n",
    "# Option re.VERBOSE helps to make long and complex regular expressions easier to understand via formatting & comments.\n",
    "\n",
    "# 1. Whitespace is ignored. Spaces, tabs, and newline returns are not matched as spaces, tabs, and carriage returns. \n",
    "#    They're not matched at all. \n",
    "#    If you want to match a space in a verbose regular expression, you'll need to escape it by \n",
    "#    putting a backslash in front of it.\n",
    "\n",
    "# 2. Comments are ignored. A comment in a verbose regular expression is just like a comment in Python code: \n",
    "#    it starts with a # character and goes until the end of the line. \n",
    "#    In this case it's a comment within a multi-line string instead of within your source code, \n",
    "#    but it works the same way.\n",
    "\n",
    "# the regex before:\n",
    "dateRegex = re.compile(r'(\\d)?\\d/(\\d)?\\d/\\d\\d\\d\\d')\n",
    "\n",
    "# use re.VERBOSE instead:\n",
    "dateRegex = re.compile(r'''\n",
    "((\\d)?\\d  # month\n",
    "/(        # first slash\n",
    "\\d)?\\d    # day\n",
    "/         # second slash\n",
    "\\d\\d\\d\\d  # year\n",
    "''', re.VERBOSE)"
   ]
  },
  {
   "cell_type": "code",
   "execution_count": null,
   "metadata": {
    "collapsed": true
   },
   "outputs": [],
   "source": []
  }
 ],
 "metadata": {
  "kernelspec": {
   "display_name": "Python 3",
   "language": "python",
   "name": "python3"
  },
  "language_info": {
   "codemirror_mode": {
    "name": "ipython",
    "version": 3
   },
   "file_extension": ".py",
   "mimetype": "text/x-python",
   "name": "python",
   "nbconvert_exporter": "python",
   "pygments_lexer": "ipython3",
   "version": "3.6.2"
  }
 },
 "nbformat": 4,
 "nbformat_minor": 2
}
